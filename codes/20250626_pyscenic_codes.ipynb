{
 "cells": [
  {
   "cell_type": "code",
   "execution_count": 1,
   "id": "782906ab",
   "metadata": {},
   "outputs": [
    {
     "name": "stdout",
     "output_type": "stream",
     "text": [
      "1.21.0\n"
     ]
    }
   ],
   "source": [
    "import os\n",
    "import glob\n",
    "import pickle\n",
    "import openpyxl\n",
    "import pandas as pd\n",
    "import matplotlib.pyplot as plt\n",
    "import numpy as np\n",
    "print(np.__version__)\n",
    "\n",
    "from dask.diagnostics import ProgressBar\n",
    "\n",
    "from arboreto.utils import load_tf_names\n",
    "from arboreto.algo import grnboost2\n",
    "\n",
    "from ctxcore.rnkdb import FeatherRankingDatabase as RankingDatabase\n",
    "from pyscenic.utils import modules_from_adjacencies, load_motifs\n",
    "from pyscenic.prune import prune2df, df2regulons\n",
    "from pyscenic.aucell import aucell\n",
    "\n",
    "from matplotlib import cm\n",
    "from matplotlib.colors import Normalize, to_hex\n",
    "\n",
    "import seaborn as sns\n"
   ]
  },
  {
   "cell_type": "code",
   "execution_count": 2,
   "id": "21a7cf23",
   "metadata": {},
   "outputs": [
    {
     "data": {
      "text/plain": [
       "[FeatherRankingDatabase(name=\"hg38__refseq-r80__10kb_up_and_down_tss.mc9nr.genes_vs_motifs.rankings\")]"
      ]
     },
     "execution_count": 2,
     "metadata": {},
     "output_type": "execute_result"
    }
   ],
   "source": [
    "DATA_FOLDER = \"/home/hjlee/monocle3,pyscenic,palantir,iqcell/DATA_FOLDER\"\n",
    "RESOURCES_FOLDER = \"/home/hjlee/monocle3,pyscenic,palantir,iqcell/RESOURCES_FOLDER\"\n",
    "DATABASE_FOLDER = \"/home/hjlee/monocle3,pyscenic,palantir,iqcell/DATABASE_FOLDER\"\n",
    "EXPRESSIONDATA_FOLDER = \"/home/hjlee/monocle3,pyscenic,palantir,iqcell/EXPRESSIONDATA_FOLDER\"\n",
    "\n",
    "\n",
    "DATABASES_GLOB = os.path.join(DATABASE_FOLDER, \"hg38__refseq-r80__10kb_up_and_down_tss.mc9nr.genes_vs_motifs.rankings.feather\")\n",
    "MOTIF_ANNOTATIONS_FNAME = os.path.join(RESOURCES_FOLDER, \"motifs-v9-nr.hgnc-m0.001-o0.0.tbl\")\n",
    "MM_TFS_FNAME = os.path.join(RESOURCES_FOLDER, 'hs_hgnc_tfs.txt')\n",
    "SC_EXP_FNAME = os.path.join(EXPRESSIONDATA_FOLDER, \"20250625_renal_raw.csv\")\n",
    "REGULONS_FNAME = os.path.join(DATA_FOLDER, \"20250522_regulons_all_gene.p\") # for save\n",
    "MOTIFS_FNAME = os.path.join(DATA_FOLDER, \"20250522_motifs_all_gene.csv\") # for save\n",
    "\n",
    "ex_matrix = pd.read_csv(SC_EXP_FNAME, header=0, index_col=0).T # for making cell (row) and gene (column)\n",
    "ex_matrix.shape \n",
    "tf_names = load_tf_names(MM_TFS_FNAME)\n",
    "\n",
    "\n",
    "db_fnames = glob.glob(DATABASES_GLOB)\n",
    "def name(fname):\n",
    "    return os.path.splitext(os.path.basename(fname))[0]\n",
    "dbs = [RankingDatabase(fname=fname, name=name(fname)) for fname in db_fnames]\n",
    "dbs\n"
   ]
  },
  {
   "cell_type": "code",
   "execution_count": 3,
   "id": "cfae8790",
   "metadata": {},
   "outputs": [
    {
     "name": "stdout",
     "output_type": "stream",
     "text": [
      "preparing dask client\n"
     ]
    },
    {
     "name": "stderr",
     "output_type": "stream",
     "text": [
      "/data/hjlee/sw/miniconda3/envs/pyscenic/lib/python3.8/site-packages/distributed/node.py:182: UserWarning: Port 8787 is already in use.\n",
      "Perhaps you already have a cluster running?\n",
      "Hosting the HTTP server on port 44993 instead\n",
      "  warnings.warn(\n",
      "Numba: Attempted to fork from a non-main thread, the TBB library may be in an invalid state in the child process.\n",
      "Numba: Attempted to fork from a non-main thread, the TBB library may be in an invalid state in the child process.\n",
      "Numba: Attempted to fork from a non-main thread, the TBB library may be in an invalid state in the child process.\n",
      "Numba: Attempted to fork from a non-main thread, the TBB library may be in an invalid state in the child process.\n",
      "Numba: Attempted to fork from a non-main thread, the TBB library may be in an invalid state in the child process.\n",
      "Numba: Attempted to fork from a non-main thread, the TBB library may be in an invalid state in the child process.\n",
      "Numba: Attempted to fork from a non-main thread, the TBB library may be in an invalid state in the child process.\n",
      "Numba: Attempted to fork from a non-main thread, the TBB library may be in an invalid state in the child process.\n",
      "Numba: Attempted to fork from a non-main thread, the TBB library may be in an invalid state in the child process.\n",
      "Numba: Attempted to fork from a non-main thread, the TBB library may be in an invalid state in the child process.\n",
      "Numba: Attempted to fork from a non-main thread, the TBB library may be in an invalid state in the child process.\n",
      "Numba: Attempted to fork from a non-main thread, the TBB library may be in an invalid state in the child process.\n",
      "Numba: Attempted to fork from a non-main thread, the TBB library may be in an invalid state in the child process.\n",
      "Numba: Attempted to fork from a non-main thread, the TBB library may be in an invalid state in the child process.\n",
      "Numba: Attempted to fork from a non-main thread, the TBB library may be in an invalid state in the child process.\n"
     ]
    },
    {
     "name": "stdout",
     "output_type": "stream",
     "text": [
      "parsing input\n",
      "creating dask graph\n",
      "14 partitions\n",
      "computing dask graph\n"
     ]
    },
    {
     "name": "stderr",
     "output_type": "stream",
     "text": [
      "/data/hjlee/sw/miniconda3/envs/pyscenic/lib/python3.8/site-packages/distributed/client.py:3108: UserWarning: Sending large graph of size 143.56 MiB.\n",
      "This may cause some slowdown.\n",
      "Consider scattering data ahead of time and using futures.\n",
      "  warnings.warn(\n"
     ]
    },
    {
     "name": "stdout",
     "output_type": "stream",
     "text": [
      "shutting down client and local cluster\n",
      "finished\n"
     ]
    },
    {
     "name": "stderr",
     "output_type": "stream",
     "text": [
      "\n",
      "2025-06-25 22:55:32,520 - pyscenic.utils - INFO - Calculating Pearson correlations.\n",
      "\n",
      "2025-06-25 22:55:32,598 - pyscenic.utils - WARNING - Note on correlation calculation: the default behaviour for calculating the correlations has changed after pySCENIC verion 0.9.16. Previously, the default was to calculate the correlation between a TF and target gene using only cells with non-zero expression values (mask_dropouts=True). The current default is now to use all cells to match the behavior of the R verision of SCENIC. The original settings can be retained by setting 'rho_mask_dropouts=True' in the modules_from_adjacencies function, or '--mask_dropouts' from the CLI.\n",
      "\tDropout masking is currently set to [False].\n",
      "\n",
      "2025-06-25 22:55:35,491 - pyscenic.utils - INFO - Creating modules.\n"
     ]
    },
    {
     "name": "stdout",
     "output_type": "stream",
     "text": [
      "[########################################] | 100% Completed | 388.69 s\n",
      "Create regulons from a dataframe of enriched features.\n",
      "Additional columns saved: []\n"
     ]
    }
   ],
   "source": [
    "# STEP1 : co-expression-based TF-target interference using GRNBoost2 algorithm \n",
    "# Regulons are derived from adjacencies using arboreto package\n",
    "adjacencies = grnboost2(ex_matrix, tf_names=tf_names, verbose=True)\n",
    "\n",
    "# STEP2 : TF is added to the module & modules that have less than 20 genes are removed\n",
    "modules = list(modules_from_adjacencies(adjacencies, ex_matrix))\n",
    "\n",
    "# Calculate a list of enriched motifs and the corresponding target genes for all modules.\n",
    "with ProgressBar():\n",
    "    df = prune2df(dbs, modules, MOTIF_ANNOTATIONS_FNAME)\n",
    "\n",
    "# Create regulons from this table of enriched motifs\n",
    "regulons = df2regulons(df)\n",
    "\n",
    "# Save the enriched motifs and the discovered regulons to disk.\n",
    "df.to_csv(MOTIFS_FNAME)\n",
    "with open(REGULONS_FNAME, \"wb\") as f:\n",
    "    pickle.dump(regulons, f)\n",
    "\n",
    "# The clusters can be leveraged via the dask framework:\n",
    "df = prune2df(dbs, modules, MOTIF_ANNOTATIONS_FNAME)\n",
    "\n",
    "# STEP3 : Reloading the enriched motifs and regulons from file  \n",
    "df = load_motifs(MOTIFS_FNAME)\n",
    "with open(REGULONS_FNAME, \"rb\") as f:\n",
    "    regulons = pickle.load(f)"
   ]
  },
  {
   "cell_type": "code",
   "execution_count": 4,
   "id": "a90be901",
   "metadata": {},
   "outputs": [
    {
     "data": {
      "application/vnd.microsoft.datawrangler.viewer.v0+json": {
       "columns": [
        {
         "name": "index",
         "rawType": "int64",
         "type": "integer"
        },
        {
         "name": "TF",
         "rawType": "object",
         "type": "string"
        },
        {
         "name": "target",
         "rawType": "object",
         "type": "string"
        },
        {
         "name": "importance",
         "rawType": "float64",
         "type": "float"
        }
       ],
       "ref": "0d41353a-eecb-45af-aa45-522c3fc809be",
       "rows": [
        [
         "16",
         "NFIA",
         "RCBTB1",
         "12.105061333367171"
        ],
        [
         "409",
         "FOXI2",
         "NRIP3",
         "11.992419725005227"
        ],
        [
         "69",
         "LTF",
         "SERPINA3",
         "11.053594266113173"
        ],
        [
         "256",
         "PKM",
         "ALDOA",
         "10.717265310345617"
        ],
        [
         "101",
         "BDP1",
         "ZNF430",
         "10.650527374221404"
        ]
       ],
       "shape": {
        "columns": 3,
        "rows": 5
       }
      },
      "text/html": [
       "<div>\n",
       "<style scoped>\n",
       "    .dataframe tbody tr th:only-of-type {\n",
       "        vertical-align: middle;\n",
       "    }\n",
       "\n",
       "    .dataframe tbody tr th {\n",
       "        vertical-align: top;\n",
       "    }\n",
       "\n",
       "    .dataframe thead th {\n",
       "        text-align: right;\n",
       "    }\n",
       "</style>\n",
       "<table border=\"1\" class=\"dataframe\">\n",
       "  <thead>\n",
       "    <tr style=\"text-align: right;\">\n",
       "      <th></th>\n",
       "      <th>TF</th>\n",
       "      <th>target</th>\n",
       "      <th>importance</th>\n",
       "    </tr>\n",
       "  </thead>\n",
       "  <tbody>\n",
       "    <tr>\n",
       "      <th>16</th>\n",
       "      <td>NFIA</td>\n",
       "      <td>RCBTB1</td>\n",
       "      <td>12.105061</td>\n",
       "    </tr>\n",
       "    <tr>\n",
       "      <th>409</th>\n",
       "      <td>FOXI2</td>\n",
       "      <td>NRIP3</td>\n",
       "      <td>11.992420</td>\n",
       "    </tr>\n",
       "    <tr>\n",
       "      <th>69</th>\n",
       "      <td>LTF</td>\n",
       "      <td>SERPINA3</td>\n",
       "      <td>11.053594</td>\n",
       "    </tr>\n",
       "    <tr>\n",
       "      <th>256</th>\n",
       "      <td>PKM</td>\n",
       "      <td>ALDOA</td>\n",
       "      <td>10.717265</td>\n",
       "    </tr>\n",
       "    <tr>\n",
       "      <th>101</th>\n",
       "      <td>BDP1</td>\n",
       "      <td>ZNF430</td>\n",
       "      <td>10.650527</td>\n",
       "    </tr>\n",
       "  </tbody>\n",
       "</table>\n",
       "</div>"
      ],
      "text/plain": [
       "        TF    target  importance\n",
       "16    NFIA    RCBTB1   12.105061\n",
       "409  FOXI2     NRIP3   11.992420\n",
       "69     LTF  SERPINA3   11.053594\n",
       "256    PKM     ALDOA   10.717265\n",
       "101   BDP1    ZNF430   10.650527"
      ]
     },
     "execution_count": 4,
     "metadata": {},
     "output_type": "execute_result"
    }
   ],
   "source": [
    "adjacencies.head()"
   ]
  },
  {
   "cell_type": "code",
   "execution_count": 5,
   "id": "b64e9da3",
   "metadata": {},
   "outputs": [],
   "source": [
    "adjacencies.to_csv('/home/hjlee/monocle3,pyscenic,palantir,iqcell/20250625_adjacencies.csv')"
   ]
  },
  {
   "cell_type": "code",
   "execution_count": 6,
   "id": "692069fc",
   "metadata": {},
   "outputs": [
    {
     "name": "stdout",
     "output_type": "stream",
     "text": [
      "Regulon                             ARID3A(+)  ASCL2(+)   ATF3(+)   ATF4(+)  \\\n",
      "Cell                                                                          \n",
      "5739STDY7958794_ACGCCAGAGATGTAAC-1        0.0       0.0  0.022921  0.039179   \n",
      "5739STDY7958794_AGCCTAAAGCTAGTCT-1        0.0       0.0  0.052775  0.048351   \n",
      "5739STDY7958794_CTGGTCTCATCGATGT-1        0.0       0.0  0.020725  0.002257   \n",
      "5739STDY7958794_TCACAAGGTATTAGCC-1        0.0       0.0  0.050517  0.040805   \n",
      "5739STDY7958794_TCGAGGCAGGACAGAA-1        0.0       0.0  0.133407  0.034419   \n",
      "...                                       ...       ...       ...       ...   \n",
      "5739STDY9266997_GTACGTAAGAATAGGG-1        0.0       0.0  0.035427  0.025190   \n",
      "5739STDY9266997_TACACGAAGGTGCTAG-1        0.0       0.0  0.019814  0.024023   \n",
      "5739STDY9266997_TACTTGTGTACCATCA-1        0.0       0.0  0.020339  0.034640   \n",
      "5739STDY9266997_TCATTACAGGTGTTAA-1        0.0       0.0  0.021444  0.032971   \n",
      "5739STDY9266997_TGCTACCAGTGGAGAA-1        0.0       0.0  0.026505  0.029989   \n",
      "\n",
      "Regulon                              ATF5(+)  BACH2(+)  BATF3(+)    BBX(+)  \\\n",
      "Cell                                                                         \n",
      "5739STDY7958794_ACGCCAGAGATGTAAC-1  0.126684       0.0  0.000000  0.000000   \n",
      "5739STDY7958794_AGCCTAAAGCTAGTCT-1  0.152228       0.0  0.191653  0.015109   \n",
      "5739STDY7958794_CTGGTCTCATCGATGT-1  0.008439       0.0  0.352482  0.000000   \n",
      "5739STDY7958794_TCACAAGGTATTAGCC-1  0.095942       0.0  0.001340  0.000000   \n",
      "5739STDY7958794_TCGAGGCAGGACAGAA-1  0.063043       0.0  0.000000  0.000000   \n",
      "...                                      ...       ...       ...       ...   \n",
      "5739STDY9266997_GTACGTAAGAATAGGG-1  0.047363       0.0  0.000000  0.000000   \n",
      "5739STDY9266997_TACACGAAGGTGCTAG-1  0.078534       0.0  0.000000  0.000000   \n",
      "5739STDY9266997_TACTTGTGTACCATCA-1  0.083917       0.0  0.000000  0.000000   \n",
      "5739STDY9266997_TCATTACAGGTGTTAA-1  0.120108       0.0  0.000000  0.000000   \n",
      "5739STDY9266997_TGCTACCAGTGGAGAA-1  0.099462       0.0  0.273408  0.000000   \n",
      "\n",
      "Regulon                              BCL6(+)  BCLAF1(+)  ...    WT1(+)  \\\n",
      "Cell                                                     ...             \n",
      "5739STDY7958794_ACGCCAGAGATGTAAC-1  0.000000   0.006199  ...  0.027273   \n",
      "5739STDY7958794_AGCCTAAAGCTAGTCT-1  0.000000   0.009793  ...  0.000000   \n",
      "5739STDY7958794_CTGGTCTCATCGATGT-1  0.048423   0.005206  ...  0.000000   \n",
      "5739STDY7958794_TCACAAGGTATTAGCC-1  0.000000   0.013720  ...  0.000000   \n",
      "5739STDY7958794_TCGAGGCAGGACAGAA-1  0.000000   0.002559  ...  0.000000   \n",
      "...                                      ...        ...  ...       ...   \n",
      "5739STDY9266997_GTACGTAAGAATAGGG-1  0.000000   0.002807  ...  0.000000   \n",
      "5739STDY9266997_TACACGAAGGTGCTAG-1  0.000000   0.001942  ...  0.000000   \n",
      "5739STDY9266997_TACTTGTGTACCATCA-1  0.000000   0.003248  ...  0.000000   \n",
      "5739STDY9266997_TCATTACAGGTGTTAA-1  0.000000   0.000000  ...  0.000000   \n",
      "5739STDY9266997_TGCTACCAGTGGAGAA-1  0.000000   0.006989  ...  0.000000   \n",
      "\n",
      "Regulon                              XBP1(+)   YBX1(+)  ZMIZ1(+)  ZNF217(+)  \\\n",
      "Cell                                                                          \n",
      "5739STDY7958794_ACGCCAGAGATGTAAC-1  0.010162  0.054140  0.000000   0.000000   \n",
      "5739STDY7958794_AGCCTAAAGCTAGTCT-1  0.012901  0.078628  0.045602   0.000000   \n",
      "5739STDY7958794_CTGGTCTCATCGATGT-1  0.004098  0.052255  0.071307   0.008026   \n",
      "5739STDY7958794_TCACAAGGTATTAGCC-1  0.023792  0.070537  0.000000   0.000000   \n",
      "5739STDY7958794_TCGAGGCAGGACAGAA-1  0.014977  0.047590  0.000000   0.000000   \n",
      "...                                      ...       ...       ...        ...   \n",
      "5739STDY9266997_GTACGTAAGAATAGGG-1  0.003769  0.083346  0.000000   0.000000   \n",
      "5739STDY9266997_TACACGAAGGTGCTAG-1  0.003207  0.160315  0.000000   0.000000   \n",
      "5739STDY9266997_TACTTGTGTACCATCA-1  0.003711  0.119743  0.000000   0.000000   \n",
      "5739STDY9266997_TCATTACAGGTGTTAA-1  0.004278  0.098420  0.000000   0.000000   \n",
      "5739STDY9266997_TGCTACCAGTGGAGAA-1  0.003572  0.065086  0.000000   0.000000   \n",
      "\n",
      "Regulon                             ZNF430(+)  ZNF607(+)  ZNF76(+)  \\\n",
      "Cell                                                                 \n",
      "5739STDY7958794_ACGCCAGAGATGTAAC-1        0.0        0.0       0.0   \n",
      "5739STDY7958794_AGCCTAAAGCTAGTCT-1        0.0        0.0       0.0   \n",
      "5739STDY7958794_CTGGTCTCATCGATGT-1        0.0        0.0       0.0   \n",
      "5739STDY7958794_TCACAAGGTATTAGCC-1        0.0        0.0       0.0   \n",
      "5739STDY7958794_TCGAGGCAGGACAGAA-1        0.0        0.0       0.0   \n",
      "...                                       ...        ...       ...   \n",
      "5739STDY9266997_GTACGTAAGAATAGGG-1        0.0        0.0       0.0   \n",
      "5739STDY9266997_TACACGAAGGTGCTAG-1        0.0        0.0       0.0   \n",
      "5739STDY9266997_TACTTGTGTACCATCA-1        0.0        0.0       0.0   \n",
      "5739STDY9266997_TCATTACAGGTGTTAA-1        0.0        0.0       0.0   \n",
      "5739STDY9266997_TGCTACCAGTGGAGAA-1        0.0        0.0       0.0   \n",
      "\n",
      "Regulon                             ZNF780B(+)  ZNF844(+)  \n",
      "Cell                                                       \n",
      "5739STDY7958794_ACGCCAGAGATGTAAC-1         0.0        0.0  \n",
      "5739STDY7958794_AGCCTAAAGCTAGTCT-1         0.0        0.0  \n",
      "5739STDY7958794_CTGGTCTCATCGATGT-1         0.0        0.0  \n",
      "5739STDY7958794_TCACAAGGTATTAGCC-1         0.0        0.0  \n",
      "5739STDY7958794_TCGAGGCAGGACAGAA-1         0.0        0.0  \n",
      "...                                        ...        ...  \n",
      "5739STDY9266997_GTACGTAAGAATAGGG-1         0.0        0.0  \n",
      "5739STDY9266997_TACACGAAGGTGCTAG-1         0.0        0.0  \n",
      "5739STDY9266997_TACTTGTGTACCATCA-1         0.0        0.0  \n",
      "5739STDY9266997_TCATTACAGGTGTTAA-1         0.0        0.0  \n",
      "5739STDY9266997_TGCTACCAGTGGAGAA-1         0.0        0.0  \n",
      "\n",
      "[3384 rows x 139 columns]\n"
     ]
    }
   ],
   "source": [
    "auc_mtx = aucell(ex_matrix, regulons)\n",
    "print(auc_mtx)"
   ]
  },
  {
   "cell_type": "code",
   "execution_count": 7,
   "id": "965b78c2",
   "metadata": {},
   "outputs": [
    {
     "data": {
      "text/plain": [
       "Index(['ARID3A(+)', 'ASCL2(+)', 'ATF3(+)', 'ATF4(+)', 'ATF5(+)', 'BACH2(+)',\n",
       "       'BATF3(+)', 'BBX(+)', 'BCL6(+)', 'BCLAF1(+)',\n",
       "       ...\n",
       "       'WT1(+)', 'XBP1(+)', 'YBX1(+)', 'ZMIZ1(+)', 'ZNF217(+)', 'ZNF430(+)',\n",
       "       'ZNF607(+)', 'ZNF76(+)', 'ZNF780B(+)', 'ZNF844(+)'],\n",
       "      dtype='object', name='Regulon', length=139)"
      ]
     },
     "execution_count": 7,
     "metadata": {},
     "output_type": "execute_result"
    }
   ],
   "source": [
    "auc_mtx.columns"
   ]
  },
  {
   "cell_type": "code",
   "execution_count": null,
   "id": "dd61341e",
   "metadata": {},
   "outputs": [
    {
     "name": "stdout",
     "output_type": "stream",
     "text": [
      "                              cell_id  pseudotime cell_type\n",
      "0  5739STDY8351266_TATTACCGTTTGCATG-1    0.000000    Epi_PT\n",
      "1  5739STDY9266980_TACTTACTCAGCATGT-1    0.000161    Epi_PT\n",
      "2  5739STDY8351266_ACACCGGGTATATCCG-1    0.000519    Epi_PT\n",
      "3  5739STDY8351266_GCTGGGTAGTACATGA-1    0.000641    Epi_PT\n",
      "4  5739STDY9266998_ATTCTACCAGGGTACA-1    0.000964    Epi_PT\n"
     ]
    },
    {
     "data": {
      "image/png": "[encoded data removed]",
      "text/plain": [
       "<Figure size 800x500 with 5 Axes>"
      ]
     },
     "metadata": {},
     "output_type": "display_data"
    }
   ],
   "source": [
    "# We characterize the different cells in a single-cell transcriptomics experiment via the enrichment of the previously discovered regulons. \n",
    "# Enrichment of a regulon is measured as the Area Under the recovery Curve (AUC) of the genes that define this regulon.\n",
    "auc_mtx = aucell(ex_matrix, regulons)\n",
    "auc_df = auc_mtx.copy()\n",
    "auc_df.index.name = 'cell_id'\n",
    "auc_df.reset_index(inplace=True)\n",
    "\n",
    "umap_df = pd.read_csv(\"/home/hjlee/monocle3,pyscenic,palantir,iqcell/20250625_order.csv\")\n",
    "print(umap_df.head())\n",
    "\n",
    "umap_df_sub = pd.merge(umap_df, auc_df, on='cell_id', how='inner')\n",
    "umap_df_sub.to_csv('/home/hjlee/monocle3,pyscenic,palantir,iqcell/20250625_auc_matrix_meta_all_gene.csv')\n",
    "umap_df_sub.set_index(\"cell_id\", inplace=True)\n",
    "\n",
    "# 0이 50% 미만인 열만 선택 (0이 많은 열 제거)\n",
    "threshold = 0.5\n",
    "zero_fraction = (umap_df_sub == 0).sum() / umap_df_sub.shape[0]\n",
    "cols_to_keep = zero_fraction[zero_fraction < threshold].index\n",
    "umap_df_sub = umap_df_sub[cols_to_keep]\n",
    "\n",
    "unique_btypes = sorted(umap_df_sub[\"broad_type\"].dropna().unique())\n",
    "palette = sns.color_palette(\"tab10\", n_colors=len(unique_btypes))\n",
    "lut = dict(zip(unique_btypes, palette))\n",
    "row_colors = umap_df_sub.reindex(auc_mtx.index)[\"broad_type\"].map(lut)\n",
    "\n",
    "auc_mtx = auc_mtx.loc[umap_df_sub.index]\n",
    "# heatmap\n",
    "selected_genes = ['NR2F1(+)','MAF(+)', 'ESRRA(+)','ETV7(+)','RELB(+)','STAT1(+)','MYC(+)','MAFF(+)','EGR1(+)','ATF3(+)','KLF6(+)','CEBPD(+)','JUN(+)','JUNB(+)','FOS(+)','CEBPB(+)','FOSB(+)']\n",
    "\n",
    "auc_mtx_filtered = auc_mtx[selected_genes]\n",
    "sns.clustermap(\n",
    "    auc_mtx_filtered,\n",
    "    figsize=(8, 5),\n",
    "    row_colors=row_colors,\n",
    "    z_score=1,\n",
    "    vmin=-2,\n",
    "    vmax=2,\n",
    "    cmap=\"vlag\",\n",
    "    row_cluster=False,\n",
    "    col_cluster=False,\n",
    "    yticklabels=False\n",
    ")\n",
    "auc_mtx.to_csv(\"/home/hjlee/monocle3,pyscenic,palantir,iqcell/20250625_auc_matrix_all_gene.csv\")\n",
    "plt.savefig('/home/hjlee/monocle3,pyscenic,palantir,iqcell/20250625_AUCell_all_gene.png')\n",
    "plt.show()"
   ]
  },
  {
   "cell_type": "code",
   "execution_count": null,
   "id": "55f341d4",
   "metadata": {},
   "outputs": [],
   "source": []
  }
 ],
 "metadata": {
  "kernelspec": {
   "display_name": "pyscenic",
   "language": "python",
   "name": "python3"
  },
  "language_info": {
   "codemirror_mode": {
    "name": "ipython",
    "version": 3
   },
   "file_extension": ".py",
   "mimetype": "text/x-python",
   "name": "python",
   "nbconvert_exporter": "python",
   "pygments_lexer": "ipython3",
   "version": "3.8.20"
  }
 },
 "nbformat": 4,
 "nbformat_minor": 5
}
